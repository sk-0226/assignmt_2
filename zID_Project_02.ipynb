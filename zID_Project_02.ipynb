{
  "nbformat": 4,
  "nbformat_minor": 0,
  "metadata": {
    "colab": {
      "provenance": [],
      "include_colab_link": true
    },
    "kernelspec": {
      "name": "python3",
      "display_name": "Python 3"
    },
    "language_info": {
      "name": "python"
    }
  },
  "cells": [
    {
      "cell_type": "markdown",
      "metadata": {
        "id": "view-in-github",
        "colab_type": "text"
      },
      "source": [
        "<a href=\"https://colab.research.google.com/github/sk-0226/assignmt_2/blob/main/zID_Project_02.ipynb\" target=\"_parent\"><img src=\"https://colab.research.google.com/assets/colab-badge.svg\" alt=\"Open In Colab\"/></a>"
      ]
    },
    {
      "cell_type": "markdown",
      "source": [
        "---\n",
        "PROJECT 2: HDAT9500 T2 2025\n",
        "\n",
        "---\n",
        "\n",
        "\n",
        "\n"
      ],
      "metadata": {
        "id": "KZdQ0wqn2rUX"
      }
    },
    {
      "cell_type": "markdown",
      "source": [
        "**zID:** z5514968\n",
        "\n",
        "**Name: Seong-hee Kwon**\n",
        "\n",
        "**Date Created:** 2025-08-05  \n",
        "**Last Modified:** 2025-08-11  \n",
        "**Tools & Libraries:** NumPy, Pandas, Matplotlib, Scikit-learn, TensorFlow/Keras  \n",
        "**Dataset Source:** UCI Machine Learning Repository - Breast Cancer Wisconsin Diagnostic Data  \n",
        "**License:** MIT (or specify if academic project)  \n",
        "**Notebook Version:** 1.0  \n",
        "**Environment:**  \n",
        "  - Python 3.10.12  \n",
        "  - TensorFlow 2.14.0  \n",
        "  - scikit-learn 1.3.0  \n",
        "  - Google Colab AI-first version (June 2025)      \n",
        "\n",
        "**Description:**\n",
        "\n",
        "The script implements a workflow for breast cancer classification using a Feedforward Neural Network (FNN) (or Multilayer Perceptron (MLP)). It includes:\n",
        "- Loading and stratified splitting into training (90%), validation (10% of training), and test (10%) sets.\n",
        "- Scaling features using StandardScaler for consistent normalization across training, validation, and test sets.\n",
        "- Building a baseline MLP model with four hidden layers (20 nodes each, SELU activation) and evaluating its performance.\n",
        "- Performing hyperparameter tuning with Keras Tuner's Random Search\n",
        "- Evaluating the tuned model with accuracy, classification reports, and a confusion matrix visualization.\n",
        "- Retraining the best model on combined training and validation data for enhanced performance.\n",
        "- Saving the final model for future use.\n",
        "\n",
        "**Output:**\n",
        "- Trained model file (z5514968_final_model_for_project2.keras)\n",
        "- Hyperparameter tuning logs (saved in my_cancer_project/my_rnd_search/)\n",
        "- Confusion matrices for baseline and tuned models (Matplotlib plots)\n",
        "- Evaluation reports (classification reports and accuracy scores for baseline and tuned models)\n",
        "- Training logs (loss and accuracy per epoch for training and validation)\n",
        "- Dataset summary statistics (sizes, shapes, class distributions)\n",
        "\n",
        "**Use of shortened references:**  \n",
        "There are two textbooks I will refer to in this document. For convenience, I will use the following short forms:\n",
        "\n",
        "Introduction to Machine Learning with Python by Andreas C. Müller and Sarah Guido, cited as **Müller & Guido (2016)**.\n",
        "\n",
        "Hands-On Machine Learning with Scikit-Learn, Keras, and TensorFlow (3rd Edition) by Aurélien Géron, cited as **Géron, HOML 3rd Ed.**\n",
        "#####################################################################################"
      ],
      "metadata": {
        "id": "vFXo4tbA2wAP"
      }
    },
    {
      "cell_type": "markdown",
      "source": [
        "# Introduction\n",
        "**Background and Motivation**\n",
        "\n",
        "Breast cancer is a major health issue, and catching it early can make a huge difference. By analyzing features such as the size, texture, and shape of tumor cell nuclei, it is possible to determine whether a tumor is benign or malignant. Machine learning, especially neural networks, is great for identifying patterns in this kind of complex data. This script applies an artificial neural network (ANN) to classify breast cancer cases and assesses its performance to ensure reliable and accurate predictions.\n",
        "\n",
        "**Project Aims**\n",
        "\n",
        "This project aims to implement a Feedforward Neural Network (FNN), or Multilayer Perceptron (MLP), as a proof of concept to evaluate its effectiveness in classifying breast cancer cases. This initial approach serves as a starting point toward building a more advanced and reliable model in real-world clinical settings.\n",
        "\n",
        "**Methodology**\n",
        "\n",
        "This project follows the machine learning workflow from the HDAT9500 - Machine Learning 1 course, with the following key steps:\n",
        "- Data Preparation\n",
        "  - Load the Breast Cancer Wisconsin Dataset using scikit-learn’s load_breast_cancer().\n",
        "  - Perform stratified splitting into training, validation, and test sets.\n",
        "  - Apply feature scaling with StandardScaler on training data and transform validation and test sets accordingly.\n",
        "- Model Development\n",
        "  - Build and train a baseline Feedforward Neural Network (FNN) / Multilayer Perceptron (MLP) using TensorFlow and Keras with SELU activations.\n",
        "  - Use Keras Tuner to perform hyperparameter tuning via Random Search to optimize model architecture and learning rate.\n",
        "- Evaluation\n",
        "  - Evaluate model performance on the test set using classification metrics including accuracy, classification report, and confusion matrix.\n",
        "  - Visualize confusion matrices for both baseline and tuned models.\n",
        "  - Retrain the best model on combined training and validation data to maximize learning from available data.\n",
        "\n"
      ],
      "metadata": {
        "id": "Ulw00V0P8GTB"
      }
    },
    {
      "cell_type": "markdown",
      "source": [
        "# <font color='purple'>**Question 1: Project Preparation**"
      ],
      "metadata": {
        "id": "-8V0yxzf89-d"
      }
    },
    {
      "cell_type": "markdown",
      "source": [
        "# 1.1 Health Data Science Question\n",
        "- Health question:\n",
        "    - Which cell nuclei features in the Breast Cancer Wisconsin Dataset are most significantly associated with differentiating benign from malignant breast tumors?\n",
        "- Health Data Science question:\n",
        "  - Which machine learning algorithm provides the best performance for classifying breast tumors as benign or malignant using cell nuclei measurements from the Breast Cancer Wisconsin Dataset? What are the most influential features for accurate classification?\n",
        "  - Target Variable: Diagnosis (0 = benign, 1 = malignant)\n",
        "  - Input Variables: Numerical measurements of cell nuclei characteristics (see the variable table below)\n",
        "  - Task Type: Binary classification\n",
        "\n",
        "  *References*: https://www.spiedigitallibrary.org/conference-proceedings-of-spie/1905/1/Nuclear-feature-extraction-for-breast-tumor-diagnosis/10.1117/12.148698.short"
      ],
      "metadata": {
        "id": "1CgjHpTx9GPK"
      }
    },
    {
      "cell_type": "markdown",
      "source": [
        "# 1.2 Method Evaluation - Success Criteria\n",
        "\n",
        "The success of this project will be determined by the Feedforward Neural Network's ability to accurately classify breast tumors as benign or malignant using cell nuclei features from the Breast Cancer Wisconsin Dataset. The model's performance will be assessed using the following points:\n",
        "\n",
        "1. Classification Accuracy\n",
        "\n",
        "The percentage of correctly classified samples (benign and malignant) out of the total test set. While accuracy provides a general indicator of model performance, it may not fully capture model effectiveness if class imbalance is present.\n",
        "\n",
        "2. Precision, Recall, and F1-Score\n",
        "\n",
        "Precision measures the proportion of predicted malignant cases that are truly malignant, reflecting the model's ability to avoid false positives.\n",
        "\n",
        "Recall (Sensitivity) assesses how well the model detects actual malignant cases, minimizing false negatives — which is critical in a clinical context.\n",
        "\n",
        "F1-Score balances precision and recall, especially useful in imbalanced classification settings.\n",
        "\n",
        "3. Overfitting\n",
        "\n",
        "Monitoring training vs. validation loss and accuracy will help determine if the model generalizes well or suffers from overfitting. A successful model should maintain consistent performance across training, validation, and test datasets.\n",
        "\n",
        "As this project serves as an initial proof of concept, success will be indicated by achieving:\n",
        "- Test accuracy of at least 90%.\n",
        "- F1-score of 0.90 or higher for the malignant class.\n",
        "\n",
        "These criteria are based on typical performance benchmarks for this dataset and will guide the evaluation of the Feedforward Neural Network's effectiveness in this task.\n",
        "\n",
        "**Reference:**\n",
        "- Street, W., Wolberg, W., & Mangasarian, O. (1993).\n",
        "Nuclear feature extraction for breast tumor diagnosis.\n",
        "Electronic Imaging.\n",
        "https://www.semanticscholar.org/paper/Nuclear-feature-extraction-for-breast-tumor-Street-Wolberg/53f0fbb425bc14468eb3bf96b2e1d41ba8087f36"
      ],
      "metadata": {
        "id": "cAK51HRl9OU0"
      }
    },
    {
      "cell_type": "markdown",
      "source": [
        "# 1.3 Data\n",
        "\n",
        "The Wisconsin Breast Cancer Dataset is a widely used dataset in machine learning and medical research. It contains features computed from digitised images of fine needle aspirate (FNA) of breast masses. These features describe characteristics of the cell nuclei present in the images and help differentiate between malignant (cancerous) and benign (non-cancerous) tumours.\n",
        "\n",
        "This dataset is available in the scikit-learn library under load_breast_cancer()."
      ],
      "metadata": {
        "id": "YICb0RCK9POi"
      }
    },
    {
      "cell_type": "markdown",
      "source": [
        "**Table of Software and Libraries**\n",
        "\n",
        "![image.png](data:image/png;base64,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)"
      ],
      "metadata": {
        "id": "uVh4IsCg9ULS"
      }
    },
    {
      "cell_type": "markdown",
      "source": [
        "**Table of Variables and Constants**\n",
        "\n",
        "The dataset consists of 30 numerical features derived from digitised images of breast masses, plus an ID number and a diagnosis label. The diagnosis is a binary classification:\n",
        "\n",
        "Malignant (M): Tumour is cancerous (represented as 1 in the dataset).\n",
        "Benign (B): Tumour is non-cancerous (represented as 0 in the dataset).\n",
        "The features are computed from three groups of measurements:\n",
        "\n",
        "Mean values of different characteristics of the tumour.\n",
        "Standard error of these measurements.\n",
        "Worst (largest) values for each characteristic.\n",
        "\n",
        "Below is a table describing each variable in the dataset.\n",
        "\n",
        "![image.png](data:image/png;base64,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)"
      ],
      "metadata": {
        "id": "EcYNO9T59YYz"
      }
    },
    {
      "cell_type": "markdown",
      "source": [
        "The following table lists the constants for the project.\n",
        "\n",
        "![image.png](data:image/png;base64,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)"
      ],
      "metadata": {
        "id": "aI7qsnMsEDO_"
      }
    },
    {
      "cell_type": "markdown",
      "source": [
        "# <font color='purple'>**Question 2: Data**"
      ],
      "metadata": {
        "id": "mg6MN8w5J1NW"
      }
    },
    {
      "cell_type": "markdown",
      "source": [
        "# 2.1 Data\n",
        "Upload the breast_cancer dataset directly from scikit-learn\n"
      ],
      "metadata": {
        "id": "4EvrCLffKBUN"
      }
    },
    {
      "cell_type": "code",
      "source": [
        "pip install scikit-learn"
      ],
      "metadata": {
        "colab": {
          "base_uri": "https://localhost:8080/"
        },
        "id": "l4G1yOUC-Epx",
        "outputId": "2cdbdf4a-9396-437f-b80c-a39a15302dac"
      },
      "execution_count": 1,
      "outputs": [
        {
          "output_type": "stream",
          "name": "stdout",
          "text": [
            "Requirement already satisfied: scikit-learn in /usr/local/lib/python3.11/dist-packages (1.6.1)\n",
            "Requirement already satisfied: numpy>=1.19.5 in /usr/local/lib/python3.11/dist-packages (from scikit-learn) (2.0.2)\n",
            "Requirement already satisfied: scipy>=1.6.0 in /usr/local/lib/python3.11/dist-packages (from scikit-learn) (1.16.1)\n",
            "Requirement already satisfied: joblib>=1.2.0 in /usr/local/lib/python3.11/dist-packages (from scikit-learn) (1.5.1)\n",
            "Requirement already satisfied: threadpoolctl>=3.1.0 in /usr/local/lib/python3.11/dist-packages (from scikit-learn) (3.6.0)\n"
          ]
        }
      ]
    },
    {
      "cell_type": "code",
      "source": [
        "from sklearn.datasets import load_breast_cancer\n",
        "import pandas as pd\n",
        "\n",
        "# Load the dataset\n",
        "cancer = load_breast_cancer()\n",
        "\n",
        "# Assign the feature data to X for machine learning input\n",
        "# Assign the target labels to y which the model aims to predict.\n",
        "X = pd.DataFrame(cancer.data, columns=cancer.feature_names)\n",
        "y = pd.Series(cancer.target, name=\"target\")   # Store as a Series for a single target variable\n",
        "\n",
        "# To inspect dataset structure and contents\n",
        "feature_names = cancer.feature_names  # Store feature names for reference or analysis\n",
        "target_names = cancer.target_names\n",
        "print(\"Data shape:\", cancer.data.shape)\n",
        "print(\"Target shape:\", cancer.target.shape)\n",
        "print(\"Feature names:\", feature_names)\n",
        "print(\"Target names:\", target_names)"
      ],
      "metadata": {
        "colab": {
          "base_uri": "https://localhost:8080/"
        },
        "collapsed": true,
        "id": "2tdcM5NtfitK",
        "outputId": "c87b6505-8218-4495-83b6-437cf443f22e"
      },
      "execution_count": 2,
      "outputs": [
        {
          "output_type": "stream",
          "name": "stdout",
          "text": [
            "Data shape: (569, 30)\n",
            "Target shape: (569,)\n",
            "Feature names: ['mean radius' 'mean texture' 'mean perimeter' 'mean area'\n",
            " 'mean smoothness' 'mean compactness' 'mean concavity'\n",
            " 'mean concave points' 'mean symmetry' 'mean fractal dimension'\n",
            " 'radius error' 'texture error' 'perimeter error' 'area error'\n",
            " 'smoothness error' 'compactness error' 'concavity error'\n",
            " 'concave points error' 'symmetry error' 'fractal dimension error'\n",
            " 'worst radius' 'worst texture' 'worst perimeter' 'worst area'\n",
            " 'worst smoothness' 'worst compactness' 'worst concavity'\n",
            " 'worst concave points' 'worst symmetry' 'worst fractal dimension']\n",
            "Target names: ['malignant' 'benign']\n"
          ]
        }
      ]
    },
    {
      "cell_type": "markdown",
      "source": [
        "# 2.2 Split the Data\n",
        "- Split data\n",
        "- Scaling data"
      ],
      "metadata": {
        "id": "CXQ2aUDAITTP"
      }
    },
    {
      "cell_type": "code",
      "source": [
        "from sklearn.model_selection import train_test_split\n",
        "\n",
        "# Split the dataset into training, validation, and test sets.\n",
        "X_train, X_test, y_train, y_test = train_test_split(X, y, test_size=0.1,    # 10% test, 90% train\n",
        "                                                    random_state=77,        # random seed for reproducibility\n",
        "                                                    stratify=y)             # To maintain the same class distribution"
      ],
      "metadata": {
        "id": "nHl7pdNBKMAN"
      },
      "execution_count": 3,
      "outputs": []
    },
    {
      "cell_type": "code",
      "source": [
        "# Further split the training set into training and validation sets\n",
        "X_train, X_val, y_train, y_val = train_test_split(X_train, y_train, test_size=0.1,   # 10% of the current input (X_train, y_train) for validation\n",
        "                                                  random_state=2025,\n",
        "                                                  stratify=y_train)\n",
        "# 10% of the 90% (i.e., 0.1 × 0.9 = 0.09 or 9% of the original dataset) goes to valisation set."
      ],
      "metadata": {
        "id": "1PcfI3ZjBSL3"
      },
      "execution_count": 4,
      "outputs": []
    },
    {
      "cell_type": "code",
      "source": [
        "# To see the sample sizes of each dataset\n",
        "print(\"Training set size:\", len(X_train))\n",
        "print(\"Validation set size:\", len(X_val))\n",
        "print(\"Test set size:\", len(X_test))\n",
        "\n",
        "# To see the shape of X datasets\n",
        "print(\"X_train shape:\", X_train.shape)\n",
        "print(\"X_val shape:\", X_val.shape)\n",
        "print(\"X_test shape:\", X_test.shape)\n",
        "\n",
        "# To see the shape of y datasets\n",
        "print(\"y_train shape:\", y_train.shape)\n",
        "print(\"y_val shape:\", y_val.shape)\n",
        "print(\"y_test shape:\", y_test.shape)\n"
      ],
      "metadata": {
        "colab": {
          "base_uri": "https://localhost:8080/"
        },
        "id": "OFWOXUhNMzWI",
        "outputId": "4fabc5e8-09ca-460b-da2c-7cae8f8126be"
      },
      "execution_count": 5,
      "outputs": [
        {
          "output_type": "stream",
          "name": "stdout",
          "text": [
            "Training set size: 460\n",
            "Validation set size: 52\n",
            "Test set size: 57\n",
            "X_train shape: (460, 30)\n",
            "X_val shape: (52, 30)\n",
            "X_test shape: (57, 30)\n",
            "y_train shape: (460,)\n",
            "y_val shape: (52,)\n",
            "y_test shape: (57,)\n"
          ]
        }
      ]
    },
    {
      "cell_type": "markdown",
      "source": [
        "The training input features (X_train) have 460 samples. The validation input features have 52 samples. The test input features have 57 samples.\n",
        "\n",
        "The training labels/targets (y_train) is a 1D array with 460 values. The validation labels are a 1D array with 52 values. The test labels are a 1D array with 57 values."
      ],
      "metadata": {
        "id": "iYFgZGTFJSY7"
      }
    },
    {
      "cell_type": "code",
      "source": [
        "### Reference: Laboratory_07_CV_Intro_ANN_Solution.ipynb\n",
        "### AI assistance: prompt - 'How to calculate class distribution percentages from pandas series' (ChatGPT)\n",
        "\n",
        "# # To check class balance in each set\n",
        "print(\"Training set class distribution:\")\n",
        "print(y_train.value_counts(normalize=True) * 100)  # normalize=True: returns relative frequencies (fractions)\n",
        "print(\"Validation set class distribution:\")\n",
        "print(y_val.value_counts(normalize=True) * 100)\n",
        "print(\"Test set class distribution:\")\n",
        "print(y_test.value_counts(normalize=True) * 100)"
      ],
      "metadata": {
        "colab": {
          "base_uri": "https://localhost:8080/"
        },
        "id": "BoUKjZRbZhDT",
        "outputId": "9239ec9c-4682-4fbe-c34c-627158033384"
      },
      "execution_count": 7,
      "outputs": [
        {
          "output_type": "stream",
          "name": "stdout",
          "text": [
            "Training set class distribution:\n",
            "target\n",
            "1    62.608696\n",
            "0    37.391304\n",
            "Name: proportion, dtype: float64\n",
            "Validation set class distribution:\n",
            "target\n",
            "1    63.461538\n",
            "0    36.538462\n",
            "Name: proportion, dtype: float64\n",
            "Test set class distribution:\n",
            "target\n",
            "1    63.157895\n",
            "0    36.842105\n",
            "Name: proportion, dtype: float64\n"
          ]
        }
      ]
    },
    {
      "cell_type": "markdown",
      "source": [
        "< Summary on class distribution >\n",
        "\n",
        "About 62.61% of training samples are class 1, 37.39% are class 0. Validation set has a similar class balance. Test set also matches this distribution.\n",
        "\n",
        "The class distribution stayed pretty similar across the training, validation, and test sets because we used stratified splitting. This means the model gets to see a good mix of both classes during training and testing, which helps avoid any bias that might happen if one class was overrepresented.\n",
        "\n",
        "Although the class distributions are consistent across the training, validation, and test sets, they are still somewhat imbalanced overall.\n",
        " it can still affect model performance, especially on the minority class (class 0 = benign).\n",
        "\n",
        "Since this is cancer detection, ensuring high sensitivity is essential. Monitoring precision, recall, and F1-score during evaluation helps assess performance on each class.\n"
      ],
      "metadata": {
        "id": "a3iYPkOqU7Nq"
      }
    },
    {
      "cell_type": "markdown",
      "source": [
        "**Scale the features**\n",
        "\n",
        "I am going to trandform the feature inputs to have zero mean and unit variance using StandardScaler(). This is important because:\n",
        "1. The project requires using the SELU activation function, which performs best when inputs are standardized. Standardizing ensures compatibility by centering the data and normalizing its variance. (**Reference**: AI Assistance prompt on SELU function.)\n",
        "2. Neural networks expect input features to vary similarly, ideally with mean 0 and variance 1. Rescaling the data improves model performance and stability. (**Reference**: Müller & Guido (2016), Chapter 3.3 Preprocessing and Scaling.)\n",
        "\n",
        "Because the dataset is numerical, scaling is crucial. Without it, gradients may vanish or explode, causing inefficient or unstable learning.\n",
        "\n",
        "Because neural networks are sensitive to the scale of input features preprocessing significantly impacts feedforward neural networks by:\n",
        "- Training Speed - Normalized data leads to faster convergence during backpropagation.\n",
        "- Accuracy - Clean, well-scaled data helps the model learn meaningful patterns.\n",
        "- Reducing overfitting by removing noise.\n",
        "- Increasing model stability across runs.\n",
        "- Interpretability - Standardized inputs can make it easier to interpret learned weights.\n",
        "\n",
        "Scaling and preprocessing ensure the network performs optimally. Without them, even a well-designed neural network may underperform or fail to generalize."
      ],
      "metadata": {
        "id": "F4XwV0fpXA33"
      }
    },
    {
      "cell_type": "code",
      "source": [
        "### Reference: (Müller & Guido (2016) Chapter 3.3.3 Scaling Tarining and Test Data the same way)\n",
        "\n",
        "# StandardScaler() is used to scale data and also to make compatible with SELU activation function later.\n",
        "# fit_transform is used dur to its efficient computation\n",
        "\n",
        "from sklearn.preprocessing import StandardScaler\n",
        "scaler = StandardScaler()\n",
        "X_train_scaled = scaler.fit_transform(X_train)  # calling fit and transform\n",
        "X_val_scaled = scaler.transform(X_val)\n",
        "X_test_scaled = scaler.transform(X_test)"
      ],
      "metadata": {
        "id": "3_4P253rXAgN"
      },
      "execution_count": 8,
      "outputs": []
    },
    {
      "cell_type": "markdown",
      "source": [
        "For validation and test sets, scaler.transform() is used to apply the same scaling (based on the training set's statistics) to avoid data leakage and ensure consistent preprocessing."
      ],
      "metadata": {
        "id": "c-pCxeTuglye"
      }
    },
    {
      "cell_type": "markdown",
      "source": [
        "# <font color='purple'>**Question 3: Training and Tuning**"
      ],
      "metadata": {
        "id": "nKxJT_g6IEV3"
      }
    },
    {
      "cell_type": "markdown",
      "source": [
        "# Model\n",
        "\n",
        " Since the task type is binary classification task, I am going to follow the typical architecture of a classification MLP **(Géron, HOML 3rd Ed.)**\n",
        "- Hiddenlayer: 4 layers, each containing 20 nodes\n",
        "- Output neuron: 1\n",
        "- Hidden layers activation: SELU (Scaled Exponential Linear Unit)\n",
        "  - SELU is a self-normalizing activation function that automatically pushes activations toward zero mean and unit variance. Its goal is to preserve this normalization from input to output. This works well together with using a StandardScaler in preprocessing earlier.\n",
        "- Output layer activation: Sigmoid\n",
        "- Loss function: X-entrophy\n",
        "\n",
        "(**Reference**:Géron, HOML 3rd Ed. chapter 10 Creating the model using the sequential API)\n"
      ],
      "metadata": {
        "id": "YxPOVKxoIjcH"
      }
    },
    {
      "cell_type": "markdown",
      "source": [
        "**Build Baseline model** -- **Fully connected (Dense layer) Artificial Neural Networks (ANNs)**"
      ],
      "metadata": {
        "id": "wgnikWN8MWOU"
      }
    },
    {
      "cell_type": "code",
      "source": [
        "# Build baseline model (4 layers, 20 nodes, SELU)\n",
        "import tensorflow as tf\n",
        "\n",
        "tf.random.set_seed(42)     # For reproducibility: the initial weights and biases in each Dense layers are the same every time I run the code\n",
        "baseline_model = tf.keras.Sequential([\n",
        "  tf.keras.layers.Input(shape=(30,)),             # AI assistance: shape of the input = 30 features\n",
        "  tf.keras.layers.Dense(20, activation=\"selu\"),\n",
        "  tf.keras.layers.Dense(20, activation=\"selu\"),\n",
        "  tf.keras.layers.Dense(20, activation=\"selu\"),\n",
        "  tf.keras.layers.Dense(20, activation=\"selu\"),\n",
        "  tf.keras.layers.Dense(1, activation=\"sigmoid\")  # node=1 as we are dealing with  a binary classification problem\n",
        "])"
      ],
      "metadata": {
        "id": "lFnh7tbAMciX"
      },
      "execution_count": 9,
      "outputs": []
    },
    {
      "cell_type": "markdown",
      "source": [
        "Set TensorFlow’s random seed to ensure reproducible results: the randomly initialized weights in the hidden and output layers will remain the same each time the notebook is run.\n",
        "\n",
        "**Reference**:\n",
        "- (Géron, HOML 3rd Ed. chapter 10 - Creating the model using the sequential API)\n",
        "- (OpenAI, 2025, https://chat.openai.com/): prompt — shape() value in Input(shape=())\n"
      ],
      "metadata": {
        "id": "18ppHRx9XXbI"
      }
    },
    {
      "cell_type": "code",
      "source": [
        "# To display the architecture of a neural network\n",
        "# - each layer’s type, output shape, and number of trainable parameters.\n",
        "baseline_model.summary()"
      ],
      "metadata": {
        "colab": {
          "base_uri": "https://localhost:8080/",
          "height": 289
        },
        "id": "U7MvNOFzaM7L",
        "outputId": "33fb08d2-645e-4537-9c29-187d5525dee4"
      },
      "execution_count": 10,
      "outputs": [
        {
          "output_type": "display_data",
          "data": {
            "text/plain": [
              "\u001b[1mModel: \"sequential\"\u001b[0m\n"
            ],
            "text/html": [
              "<pre style=\"white-space:pre;overflow-x:auto;line-height:normal;font-family:Menlo,'DejaVu Sans Mono',consolas,'Courier New',monospace\"><span style=\"font-weight: bold\">Model: \"sequential\"</span>\n",
              "</pre>\n"
            ]
          },
          "metadata": {}
        },
        {
          "output_type": "display_data",
          "data": {
            "text/plain": [
              "┏━━━━━━━━━━━━━━━━━━━━━━━━━━━━━━━━━┳━━━━━━━━━━━━━━━━━━━━━━━━┳━━━━━━━━━━━━━━━┓\n",
              "┃\u001b[1m \u001b[0m\u001b[1mLayer (type)                   \u001b[0m\u001b[1m \u001b[0m┃\u001b[1m \u001b[0m\u001b[1mOutput Shape          \u001b[0m\u001b[1m \u001b[0m┃\u001b[1m \u001b[0m\u001b[1m      Param #\u001b[0m\u001b[1m \u001b[0m┃\n",
              "┡━━━━━━━━━━━━━━━━━━━━━━━━━━━━━━━━━╇━━━━━━━━━━━━━━━━━━━━━━━━╇━━━━━━━━━━━━━━━┩\n",
              "│ dense (\u001b[38;5;33mDense\u001b[0m)                   │ (\u001b[38;5;45mNone\u001b[0m, \u001b[38;5;34m20\u001b[0m)             │           \u001b[38;5;34m620\u001b[0m │\n",
              "├─────────────────────────────────┼────────────────────────┼───────────────┤\n",
              "│ dense_1 (\u001b[38;5;33mDense\u001b[0m)                 │ (\u001b[38;5;45mNone\u001b[0m, \u001b[38;5;34m20\u001b[0m)             │           \u001b[38;5;34m420\u001b[0m │\n",
              "├─────────────────────────────────┼────────────────────────┼───────────────┤\n",
              "│ dense_2 (\u001b[38;5;33mDense\u001b[0m)                 │ (\u001b[38;5;45mNone\u001b[0m, \u001b[38;5;34m20\u001b[0m)             │           \u001b[38;5;34m420\u001b[0m │\n",
              "├─────────────────────────────────┼────────────────────────┼───────────────┤\n",
              "│ dense_3 (\u001b[38;5;33mDense\u001b[0m)                 │ (\u001b[38;5;45mNone\u001b[0m, \u001b[38;5;34m20\u001b[0m)             │           \u001b[38;5;34m420\u001b[0m │\n",
              "├─────────────────────────────────┼────────────────────────┼───────────────┤\n",
              "│ dense_4 (\u001b[38;5;33mDense\u001b[0m)                 │ (\u001b[38;5;45mNone\u001b[0m, \u001b[38;5;34m1\u001b[0m)              │            \u001b[38;5;34m21\u001b[0m │\n",
              "└─────────────────────────────────┴────────────────────────┴───────────────┘\n"
            ],
            "text/html": [
              "<pre style=\"white-space:pre;overflow-x:auto;line-height:normal;font-family:Menlo,'DejaVu Sans Mono',consolas,'Courier New',monospace\">┏━━━━━━━━━━━━━━━━━━━━━━━━━━━━━━━━━┳━━━━━━━━━━━━━━━━━━━━━━━━┳━━━━━━━━━━━━━━━┓\n",
              "┃<span style=\"font-weight: bold\"> Layer (type)                    </span>┃<span style=\"font-weight: bold\"> Output Shape           </span>┃<span style=\"font-weight: bold\">       Param # </span>┃\n",
              "┡━━━━━━━━━━━━━━━━━━━━━━━━━━━━━━━━━╇━━━━━━━━━━━━━━━━━━━━━━━━╇━━━━━━━━━━━━━━━┩\n",
              "│ dense (<span style=\"color: #0087ff; text-decoration-color: #0087ff\">Dense</span>)                   │ (<span style=\"color: #00d7ff; text-decoration-color: #00d7ff\">None</span>, <span style=\"color: #00af00; text-decoration-color: #00af00\">20</span>)             │           <span style=\"color: #00af00; text-decoration-color: #00af00\">620</span> │\n",
              "├─────────────────────────────────┼────────────────────────┼───────────────┤\n",
              "│ dense_1 (<span style=\"color: #0087ff; text-decoration-color: #0087ff\">Dense</span>)                 │ (<span style=\"color: #00d7ff; text-decoration-color: #00d7ff\">None</span>, <span style=\"color: #00af00; text-decoration-color: #00af00\">20</span>)             │           <span style=\"color: #00af00; text-decoration-color: #00af00\">420</span> │\n",
              "├─────────────────────────────────┼────────────────────────┼───────────────┤\n",
              "│ dense_2 (<span style=\"color: #0087ff; text-decoration-color: #0087ff\">Dense</span>)                 │ (<span style=\"color: #00d7ff; text-decoration-color: #00d7ff\">None</span>, <span style=\"color: #00af00; text-decoration-color: #00af00\">20</span>)             │           <span style=\"color: #00af00; text-decoration-color: #00af00\">420</span> │\n",
              "├─────────────────────────────────┼────────────────────────┼───────────────┤\n",
              "│ dense_3 (<span style=\"color: #0087ff; text-decoration-color: #0087ff\">Dense</span>)                 │ (<span style=\"color: #00d7ff; text-decoration-color: #00d7ff\">None</span>, <span style=\"color: #00af00; text-decoration-color: #00af00\">20</span>)             │           <span style=\"color: #00af00; text-decoration-color: #00af00\">420</span> │\n",
              "├─────────────────────────────────┼────────────────────────┼───────────────┤\n",
              "│ dense_4 (<span style=\"color: #0087ff; text-decoration-color: #0087ff\">Dense</span>)                 │ (<span style=\"color: #00d7ff; text-decoration-color: #00d7ff\">None</span>, <span style=\"color: #00af00; text-decoration-color: #00af00\">1</span>)              │            <span style=\"color: #00af00; text-decoration-color: #00af00\">21</span> │\n",
              "└─────────────────────────────────┴────────────────────────┴───────────────┘\n",
              "</pre>\n"
            ]
          },
          "metadata": {}
        },
        {
          "output_type": "display_data",
          "data": {
            "text/plain": [
              "\u001b[1m Total params: \u001b[0m\u001b[38;5;34m1,901\u001b[0m (7.43 KB)\n"
            ],
            "text/html": [
              "<pre style=\"white-space:pre;overflow-x:auto;line-height:normal;font-family:Menlo,'DejaVu Sans Mono',consolas,'Courier New',monospace\"><span style=\"font-weight: bold\"> Total params: </span><span style=\"color: #00af00; text-decoration-color: #00af00\">1,901</span> (7.43 KB)\n",
              "</pre>\n"
            ]
          },
          "metadata": {}
        },
        {
          "output_type": "display_data",
          "data": {
            "text/plain": [
              "\u001b[1m Trainable params: \u001b[0m\u001b[38;5;34m1,901\u001b[0m (7.43 KB)\n"
            ],
            "text/html": [
              "<pre style=\"white-space:pre;overflow-x:auto;line-height:normal;font-family:Menlo,'DejaVu Sans Mono',consolas,'Courier New',monospace\"><span style=\"font-weight: bold\"> Trainable params: </span><span style=\"color: #00af00; text-decoration-color: #00af00\">1,901</span> (7.43 KB)\n",
              "</pre>\n"
            ]
          },
          "metadata": {}
        },
        {
          "output_type": "display_data",
          "data": {
            "text/plain": [
              "\u001b[1m Non-trainable params: \u001b[0m\u001b[38;5;34m0\u001b[0m (0.00 B)\n"
            ],
            "text/html": [
              "<pre style=\"white-space:pre;overflow-x:auto;line-height:normal;font-family:Menlo,'DejaVu Sans Mono',consolas,'Courier New',monospace\"><span style=\"font-weight: bold\"> Non-trainable params: </span><span style=\"color: #00af00; text-decoration-color: #00af00\">0</span> (0.00 B)\n",
              "</pre>\n"
            ]
          },
          "metadata": {}
        }
      ]
    },
    {
      "cell_type": "markdown",
      "source": [
        "The summary table shows that a fully connected feedforward neural network with 4 hidden layers and 1 output layer.\n",
        "\n",
        "Parameters in each layer:\n",
        "- First hiden layer: 30 features input * 20 connection weights +20 (bias terms) = 620\n",
        "- other each hidden layer: 20*20+20 = 420\n",
        "- output layer: 20*1 +1 = 21\n",
        "\n",
        "In total,\n",
        "- Trainable params = 1,881. These are the values the model will learn during training through backpropagation.\n",
        "- Non-trainable params = 0\n"
      ],
      "metadata": {
        "id": "rCfvCtoebpne"
      }
    },
    {
      "cell_type": "markdown",
      "source": [
        "**Compile step with baseline model**  \n",
        "Now a model has been created. The next step is to call compile() method to specify the loss function and the optimiser to use."
      ],
      "metadata": {
        "id": "EyN8Q0OmlgXi"
      }
    },
    {
      "cell_type": "code",
      "source": [
        "baseline_model.compile(loss=\"binary_crossentropy\",\n",
        "              optimizer=\"adam\",\n",
        "              metrics=[\"accuracy\"])"
      ],
      "metadata": {
        "id": "V85UcMfGmZco"
      },
      "execution_count": 16,
      "outputs": []
    },
    {
      "cell_type": "markdown",
      "source": [
        "Since this is a binary classification task, the output layer should use the \"sigmoid\" activation function, and the appropriate loss function is \"binary_crossentropy\".\n",
        "\n",
        "**Reference**: (Géron, HOML 3rd Ed. chapter 10 - Compiling the model)\n",
        "\n",
        "The optimizer \"adam\"(adaptive moment estimation) is an adaptive learning rate algorithm. It adjusts the learning rate automatically for each weight in the model and therefore it requires less tuning of the learning rate hyperparameter. It works in more stable and adaptive way than plain SGD (stochastic gradient descent).\n",
        "\n",
        "**Reference**:\n",
        "- (Géron, HOML 3rd Ed. chapter 10 - Compiling the model)\n",
        "- (Géron, HOML 3rd Ed. chapter 11 - Adam)\n",
        "- (OpenAI, 2025, https://chat.openai.com/): prompt — Compare sgd and adam"
      ],
      "metadata": {
        "id": "Hrn0kQvCnk9B"
      }
    },
    {
      "cell_type": "markdown",
      "source": [
        "**Train baseline model**"
      ],
      "metadata": {
        "id": "aNVMlHQfW7U_"
      }
    },
    {
      "cell_type": "code",
      "source": [
        "# Train baseline model\n",
        "# Used validation data to monitor performance during training\n",
        "baseline_model.fit(X_train_scaled, y_train, epochs=10, validation_data=(X_val_scaled, y_val))"
      ],
      "metadata": {
        "colab": {
          "base_uri": "https://localhost:8080/"
        },
        "id": "ifnHRW-UtuiW",
        "outputId": "782f39f7-0971-4a17-b78a-7abd33c26d80"
      },
      "execution_count": 40,
      "outputs": [
        {
          "output_type": "stream",
          "name": "stdout",
          "text": [
            "Epoch 1/10\n",
            "\u001b[1m15/15\u001b[0m \u001b[32m━━━━━━━━━━━━━━━━━━━━\u001b[0m\u001b[37m\u001b[0m \u001b[1m0s\u001b[0m 14ms/step - accuracy: 0.9817 - loss: 0.0550 - val_accuracy: 0.9808 - val_loss: 0.0279\n",
            "Epoch 2/10\n",
            "\u001b[1m15/15\u001b[0m \u001b[32m━━━━━━━━━━━━━━━━━━━━\u001b[0m\u001b[37m\u001b[0m \u001b[1m0s\u001b[0m 9ms/step - accuracy: 0.9828 - loss: 0.0521 - val_accuracy: 0.9808 - val_loss: 0.0282\n",
            "Epoch 3/10\n",
            "\u001b[1m15/15\u001b[0m \u001b[32m━━━━━━━━━━━━━━━━━━━━\u001b[0m\u001b[37m\u001b[0m \u001b[1m0s\u001b[0m 7ms/step - accuracy: 0.9828 - loss: 0.0496 - val_accuracy: 0.9808 - val_loss: 0.0292\n",
            "Epoch 4/10\n",
            "\u001b[1m15/15\u001b[0m \u001b[32m━━━━━━━━━━━━━━━━━━━━\u001b[0m\u001b[37m\u001b[0m \u001b[1m0s\u001b[0m 7ms/step - accuracy: 0.9894 - loss: 0.0475 - val_accuracy: 0.9808 - val_loss: 0.0309\n",
            "Epoch 5/10\n",
            "\u001b[1m15/15\u001b[0m \u001b[32m━━━━━━━━━━━━━━━━━━━━\u001b[0m\u001b[37m\u001b[0m \u001b[1m0s\u001b[0m 7ms/step - accuracy: 0.9894 - loss: 0.0454 - val_accuracy: 0.9808 - val_loss: 0.0323\n",
            "Epoch 6/10\n",
            "\u001b[1m15/15\u001b[0m \u001b[32m━━━━━━━━━━━━━━━━━━━━\u001b[0m\u001b[37m\u001b[0m \u001b[1m0s\u001b[0m 7ms/step - accuracy: 0.9894 - loss: 0.0437 - val_accuracy: 0.9808 - val_loss: 0.0333\n",
            "Epoch 7/10\n",
            "\u001b[1m15/15\u001b[0m \u001b[32m━━━━━━━━━━━━━━━━━━━━\u001b[0m\u001b[37m\u001b[0m \u001b[1m0s\u001b[0m 8ms/step - accuracy: 0.9894 - loss: 0.0421 - val_accuracy: 0.9808 - val_loss: 0.0342\n",
            "Epoch 8/10\n",
            "\u001b[1m15/15\u001b[0m \u001b[32m━━━━━━━━━━━━━━━━━━━━\u001b[0m\u001b[37m\u001b[0m \u001b[1m0s\u001b[0m 7ms/step - accuracy: 0.9894 - loss: 0.0405 - val_accuracy: 0.9808 - val_loss: 0.0348\n",
            "Epoch 9/10\n",
            "\u001b[1m15/15\u001b[0m \u001b[32m━━━━━━━━━━━━━━━━━━━━\u001b[0m\u001b[37m\u001b[0m \u001b[1m0s\u001b[0m 11ms/step - accuracy: 0.9941 - loss: 0.0393 - val_accuracy: 0.9808 - val_loss: 0.0357\n",
            "Epoch 10/10\n",
            "\u001b[1m15/15\u001b[0m \u001b[32m━━━━━━━━━━━━━━━━━━━━\u001b[0m\u001b[37m\u001b[0m \u001b[1m0s\u001b[0m 8ms/step - accuracy: 0.9941 - loss: 0.0380 - val_accuracy: 0.9808 - val_loss: 0.0362\n"
          ]
        },
        {
          "output_type": "execute_result",
          "data": {
            "text/plain": [
              "<keras.src.callbacks.history.History at 0x7f65b233b410>"
            ]
          },
          "metadata": {},
          "execution_count": 40
        }
      ]
    },
    {
      "cell_type": "markdown",
      "source": [
        "The training accuracy went up from 98.17% in the first epoch to 99.41% by the tenth, but the validation accuracy stayed flat at 98.08% the whole time. This suggests the model hit its best validation performance right at the start, and extra training didn't really add any benefits.\n",
        "\n",
        "Training loss went down steadily from 0.0550 to 0.0380, while validation loss went up a bit from 0.0279 to 0.0362. This indicates a bit of overfitting, meaning the model kept getting better on the training data but didn't improve on the validation set. Since accuracy remained high on both sets, the overfitting is not a major concern."
      ],
      "metadata": {
        "id": "3XsEMWQWZR2u"
      }
    },
    {
      "cell_type": "markdown",
      "source": [
        "**Baseline evaluation**"
      ],
      "metadata": {
        "id": "OkI-7QTm4lat"
      }
    },
    {
      "cell_type": "code",
      "source": [
        "# Evaluate baseline model\n",
        "baseline_test_loss, baseline_test_accuracy = baseline_model.evaluate(X_test_scaled, y_test, verbose=0)\n",
        "print(f\"Baseline Model Test Accuracy: {baseline_test_accuracy:.4f}\")"
      ],
      "metadata": {
        "colab": {
          "base_uri": "https://localhost:8080/"
        },
        "id": "owK2HPelvO5E",
        "outputId": "234d46dc-197e-4ebb-85e5-d7fa66f28a5c"
      },
      "execution_count": 18,
      "outputs": [
        {
          "output_type": "stream",
          "name": "stdout",
          "text": [
            "Baseline Model Test Accuracy: 0.9825\n"
          ]
        }
      ]
    },
    {
      "cell_type": "markdown",
      "source": [
        "The baseline model scored a test accuracy of 98.25%, showing strong performance on new data. This suggests the initial model setup is effective at separating the classes in this dataset."
      ],
      "metadata": {
        "id": "1b-DAbRdaA2m"
      }
    },
    {
      "cell_type": "code",
      "source": [
        "from sklearn.metrics import classification_report\n",
        "\n",
        "# Baseline model classification report\n",
        "y_pred_baseline = (baseline_model.predict(X_test_scaled) > 0.5).astype(int)\n",
        "print(\"Baseline Model Classification Report:\")\n",
        "print(classification_report(y_test, y_pred_baseline, target_names=cancer.target_names))"
      ],
      "metadata": {
        "colab": {
          "base_uri": "https://localhost:8080/"
        },
        "id": "0FAa1h1BvP2C",
        "outputId": "0f5f5af6-dcdc-4570-db98-76d37d404bbd"
      },
      "execution_count": 19,
      "outputs": [
        {
          "output_type": "stream",
          "name": "stdout",
          "text": [
            "\u001b[1m2/2\u001b[0m \u001b[32m━━━━━━━━━━━━━━━━━━━━\u001b[0m\u001b[37m\u001b[0m \u001b[1m0s\u001b[0m 115ms/step\n",
            "Baseline Model Classification Report:\n",
            "              precision    recall  f1-score   support\n",
            "\n",
            "   malignant       0.95      1.00      0.98        21\n",
            "      benign       1.00      0.97      0.99        36\n",
            "\n",
            "    accuracy                           0.98        57\n",
            "   macro avg       0.98      0.99      0.98        57\n",
            "weighted avg       0.98      0.98      0.98        57\n",
            "\n"
          ]
        }
      ]
    },
    {
      "cell_type": "markdown",
      "source": [
        "The classification report results are consistent with the accuaracy in the above.\n",
        "\n",
        "For the malignant class, 95% of the samples predicted as malignant were actually malignant (precision 0.95). Also, the modelcorrectly identified all malignant cases (recall 1.00). The f1 score 0.98 shows good balance between precision and recall.\n",
        "\n",
        "Similarly, fro the benign class, every predicted benign case was truly benign (precision 1.00) and 97% of all benign cases were correctly identified (recall 0.97). The f1 score is 0.99.\n",
        "\n",
        "The model performs very well at at detecting malignant cases with no false negatives, which is crucial in cancer detection."
      ],
      "metadata": {
        "id": "uBrDeduQax8V"
      }
    },
    {
      "cell_type": "code",
      "source": [
        "# Baseline model confusion matrix\n",
        "from sklearn.metrics import confusion_matrix, ConfusionMatrixDisplay\n",
        "import matplotlib.pyplot as plt\n",
        "\n",
        "cm_baseline = confusion_matrix(y_test, y_pred_baseline)\n",
        "disp_baseline = ConfusionMatrixDisplay(confusion_matrix=cm_baseline, display_labels=cancer.target_names)\n",
        "\n",
        "disp_baseline.plot(cmap=plt.cm.Blues)\n",
        "\n",
        "# Reference - Gemini AI assistance: automatic suggestion"
      ],
      "metadata": {
        "colab": {
          "base_uri": "https://localhost:8080/",
          "height": 473
        },
        "id": "MYZ9pAfD66KD",
        "outputId": "f1898948-f1da-4dfe-b13f-0b600948697f"
      },
      "execution_count": 20,
      "outputs": [
        {
          "output_type": "execute_result",
          "data": {
            "text/plain": [
              "<sklearn.metrics._plot.confusion_matrix.ConfusionMatrixDisplay at 0x7f65d463b450>"
            ]
          },
          "metadata": {},
          "execution_count": 20
        },
        {
          "output_type": "display_data",
          "data": {
            "text/plain": [
              "<Figure size 640x480 with 2 Axes>"
            ],
            "image/png": "[encoded data removed]"
          },
          "metadata": {}
        }
      ]
    },
    {
      "cell_type": "markdown",
      "source": [
        "The model correctly classified 21 malignant cases and 35 benign cases. There was one benign case incorrectly predicted as malignant (low false positive), while no malignant cases were missed strong sensitivity or high precision). The model performs well in distinguishing between the two classes."
      ],
      "metadata": {
        "id": "H_qWNkEcqMnO"
      }
    },
    {
      "cell_type": "markdown",
      "source": [
        "#####################################################################################################\n",
        "\n",
        "The baseline model already meets the success criteria and shows strong performance. Nevertheless, because the assignment includes a tuning step and it could offer valuable insights, I will proceed with model tuning to explore possible improvements and ensure the model is as robust as possible. This will also help provide a better understanding of how different hyperparameters impact the results."
      ],
      "metadata": {
        "id": "3ykqTjO7s6vh"
      }
    },
    {
      "cell_type": "markdown",
      "source": [
        "# Hyperparameter tuning and Specifications"
      ],
      "metadata": {
        "id": "LfCzUZ0KIlPQ"
      }
    },
    {
      "cell_type": "markdown",
      "source": [
        "My initial model has a fixed architecture—with 4 hidden layers, each containing 20 neurons and using the selu activation. Having built and compiled this model, I am now moving on to tuning its hyperparameters.\n",
        "\n",
        "Because there are many hyperparameters in a neural network, I am using the Keras Tuner library to make tuning easier and faster. It helps me quickly find the best setup for things like layers, neurons, learning rate, etc.\n",
        "\n",
        "The following function builds and compiles a Feedforward Neural Network (FNN) for the cancer classification task, tuning hyperparameters like the number of hidden layers (n_hidden), neurons per layer (n_neurons), learning rate (learning_rate), and optimizer type (optimizer). I have adapted the example code from Chapter 10 on hyperparameter tuning to suit a binary classification task.\n",
        "\n",
        "Adjustment made:\n",
        "- Removing the Flatten() layer since the input is already flat\n",
        "- Having 2 activation function choices for hidden layers\n",
        "- Using an output layer with 1 neuron and sigmoid activation\n",
        "- Output layer and loss function match binary classification task\n",
        "\n",
        "**Reference**:\n",
        "- Reference: (Géron, HOML 3rd Ed. chapter 10 Fine-Tuning Neural Network Hyperparameters)\n",
        "- (OpenAI, 2025, https://chat.openai.com/): prompt - how to specify just adam, instead of optimizer = hp.Choice(\"optimizer\", values=[\"sgd\", \"adam\"])\n",
        "- TensorFlow Keras Adam optimizer documentation: https://www.tensorflow.org/api_docs/python/tf/keras/optimizers/Adam"
      ],
      "metadata": {
        "id": "xyjn3G6Pk5dO"
      }
    },
    {
      "cell_type": "code",
      "source": [
        "# Inatall  Keras Tuner\n",
        "%pip install -q -U keras-tuner"
      ],
      "metadata": {
        "id": "1rwNipkWpwkM"
      },
      "execution_count": 21,
      "outputs": []
    },
    {
      "cell_type": "markdown",
      "source": [
        "**Define model-building function for tuning**"
      ],
      "metadata": {
        "id": "84PxF3zF45cO"
      }
    },
    {
      "cell_type": "code",
      "source": [
        "# Imporet hyperparameter tuning library for Keras models.\n",
        "import keras_tuner as kt\n",
        "\n",
        "# Define model-building function for tuning\n",
        "# This function build and return a compiled Keras model.\n",
        "def build_model(hp):\n",
        "    n_hidden = hp.Int(\"n_hidden\", min_value=2, max_value=6, default=4)       # Tune around baseline 4\n",
        "    n_neurons = hp.Int(\"n_neurons\", min_value=10, max_value=30, default=20)  # Tune around baseline 20\n",
        "    optimizer = tf.keras.optimizers.Adam(learning_rate = hp.Float(\"learning_rate\", min_value=2e-4, max_value=1e-1,\n",
        "                             sampling=\"log\"))\n",
        "\n",
        "    model = tf.keras.Sequential()\n",
        "    for _ in range(n_hidden):\n",
        "        model.add(tf.keras.layers.Dense(n_neurons, activation=\"selu\"))\n",
        "    model.add(tf.keras.layers.Dense(1, activation=\"sigmoid\"))    # For binary classification, one neuron with a sigmoid in the output layer.\n",
        "\n",
        "    model.compile(loss=\"binary_crossentropy\",\n",
        "                  optimizer=optimizer,\n",
        "                  metrics=[\"accuracy\"])\n",
        "    return model\n",
        "\n",
        "# Reference: (Géron, HOML 3rd Ed. chapter 10 Fine-Tuning Neural Network Hyperparameters)"
      ],
      "metadata": {
        "id": "HdIjIRL8p0gf"
      },
      "execution_count": 35,
      "outputs": []
    },
    {
      "cell_type": "markdown",
      "source": [
        "n_hidden: I set the maximum number of hidden layers to 8, which is double the 4 layers used in the initial model, to allow the tuner to explore deeper architectures.\n",
        "\n",
        "n_neurons: The number of neurons per layer is set to range from 17 to 250, starting slightly below the initial model’s 20 neurons to allow for smaller layers, and extending up to 250 for broad exploration.\n",
        "\n",
        "activation: Even though my initial model used selu, I added another activation function, relu, as a choice for hyperparameter tuning. I chose both selu and relu so the tuner can try each and find out which one works better.\n",
        "\n"
      ],
      "metadata": {
        "id": "81HekjziVAQ6"
      }
    },
    {
      "cell_type": "markdown",
      "source": [
        "**Perform hyperparameter tuning using the Random Search**\n",
        "\n",
        "In order to do a basic random search, I am creating a kt.RandomSearch tuner, passing the build_model function to the constructor, and call the tuner's search() method:"
      ],
      "metadata": {
        "id": "vf3Vr2oJ4kND"
      }
    },
    {
      "cell_type": "code",
      "source": [
        "# Perform hyperparameter tuning using the Random Search\n",
        "random_search_tuner = kt.RandomSearch(\n",
        "    build_model, objective=\"val_accuracy\", max_trials=8, overwrite=True, # Try 8 different hyperparameter combinations.\n",
        "    directory=\"my_cancer_project\", project_name=\"my_rnd_search\", seed=42)\n",
        "random_search_tuner.search(X_train_scaled, y_train, epochs=10,       # Each trial (hyperparameter set) train for 10 epochs.\n",
        "                           validation_data=(X_val_scaled, y_val))\n",
        "\n",
        "# \"my_cancer_project\": Folder to save tuning logs and trial models.\n",
        "# \"my_rnd_search\": Subfolder name for this specific tuning run."
      ],
      "metadata": {
        "colab": {
          "base_uri": "https://localhost:8080/"
        },
        "id": "3-UK2SHQ4jZb",
        "outputId": "b656a736-f5e1-4ec6-faef-fac5d105dba8"
      },
      "execution_count": 36,
      "outputs": [
        {
          "output_type": "stream",
          "name": "stdout",
          "text": [
            "Trial 8 Complete [00h 00m 05s]\n",
            "val_accuracy: 0.9807692170143127\n",
            "\n",
            "Best val_accuracy So Far: 1.0\n",
            "Total elapsed time: 00h 00m 44s\n"
          ]
        }
      ]
    },
    {
      "cell_type": "markdown",
      "source": [
        "After completing 8 hyperparameter tuning trials, the highest validation accuracy achieved was 100% (1.0). This indicates that at least one hyperparameter configuration allowed the model to perfectly classify the validation data. The entire tuning process took 54 seconds.\n",
        "These results highlight the model's strong performance on the validation set."
      ],
      "metadata": {
        "id": "qVfq8Lzgt3-o"
      }
    },
    {
      "cell_type": "markdown",
      "source": [
        "**Get the best model**"
      ],
      "metadata": {
        "id": "KZQxfyJT5brc"
      }
    },
    {
      "cell_type": "code",
      "source": [
        "# Get the best model\n",
        "best_model = random_search_tuner.get_best_models(num_models=1)[0]\n",
        "# To view the architecture and parameters of the selected model.\n",
        "best_model.summary()"
      ],
      "metadata": {
        "colab": {
          "base_uri": "https://localhost:8080/",
          "height": 377
        },
        "id": "VWX8hqeSb4Bj",
        "outputId": "ffbccf1a-b4f8-45db-a44a-e711b0387997"
      },
      "execution_count": 24,
      "outputs": [
        {
          "output_type": "stream",
          "name": "stderr",
          "text": [
            "/usr/local/lib/python3.11/dist-packages/keras/src/saving/saving_lib.py:802: UserWarning: Skipping variable loading for optimizer 'adam', because it has 2 variables whereas the saved optimizer has 26 variables. \n",
            "  saveable.load_own_variables(weights_store.get(inner_path))\n"
          ]
        },
        {
          "output_type": "display_data",
          "data": {
            "text/plain": [
              "\u001b[1mModel: \"sequential\"\u001b[0m\n"
            ],
            "text/html": [
              "<pre style=\"white-space:pre;overflow-x:auto;line-height:normal;font-family:Menlo,'DejaVu Sans Mono',consolas,'Courier New',monospace\"><span style=\"font-weight: bold\">Model: \"sequential\"</span>\n",
              "</pre>\n"
            ]
          },
          "metadata": {}
        },
        {
          "output_type": "display_data",
          "data": {
            "text/plain": [
              "┏━━━━━━━━━━━━━━━━━━━━━━━━━━━━━━━━━┳━━━━━━━━━━━━━━━━━━━━━━━━┳━━━━━━━━━━━━━━━┓\n",
              "┃\u001b[1m \u001b[0m\u001b[1mLayer (type)                   \u001b[0m\u001b[1m \u001b[0m┃\u001b[1m \u001b[0m\u001b[1mOutput Shape          \u001b[0m\u001b[1m \u001b[0m┃\u001b[1m \u001b[0m\u001b[1m      Param #\u001b[0m\u001b[1m \u001b[0m┃\n",
              "┡━━━━━━━━━━━━━━━━━━━━━━━━━━━━━━━━━╇━━━━━━━━━━━━━━━━━━━━━━━━╇━━━━━━━━━━━━━━━┩\n",
              "│ dense (\u001b[38;5;33mDense\u001b[0m)                   │ (\u001b[38;5;45mNone\u001b[0m, \u001b[38;5;34m10\u001b[0m)             │           \u001b[38;5;34m310\u001b[0m │\n",
              "├─────────────────────────────────┼────────────────────────┼───────────────┤\n",
              "│ dense_1 (\u001b[38;5;33mDense\u001b[0m)                 │ (\u001b[38;5;45mNone\u001b[0m, \u001b[38;5;34m10\u001b[0m)             │           \u001b[38;5;34m110\u001b[0m │\n",
              "├─────────────────────────────────┼────────────────────────┼───────────────┤\n",
              "│ dense_2 (\u001b[38;5;33mDense\u001b[0m)                 │ (\u001b[38;5;45mNone\u001b[0m, \u001b[38;5;34m10\u001b[0m)             │           \u001b[38;5;34m110\u001b[0m │\n",
              "├─────────────────────────────────┼────────────────────────┼───────────────┤\n",
              "│ dense_3 (\u001b[38;5;33mDense\u001b[0m)                 │ (\u001b[38;5;45mNone\u001b[0m, \u001b[38;5;34m10\u001b[0m)             │           \u001b[38;5;34m110\u001b[0m │\n",
              "├─────────────────────────────────┼────────────────────────┼───────────────┤\n",
              "│ dense_4 (\u001b[38;5;33mDense\u001b[0m)                 │ (\u001b[38;5;45mNone\u001b[0m, \u001b[38;5;34m10\u001b[0m)             │           \u001b[38;5;34m110\u001b[0m │\n",
              "├─────────────────────────────────┼────────────────────────┼───────────────┤\n",
              "│ dense_5 (\u001b[38;5;33mDense\u001b[0m)                 │ (\u001b[38;5;45mNone\u001b[0m, \u001b[38;5;34m1\u001b[0m)              │            \u001b[38;5;34m11\u001b[0m │\n",
              "└─────────────────────────────────┴────────────────────────┴───────────────┘\n"
            ],
            "text/html": [
              "<pre style=\"white-space:pre;overflow-x:auto;line-height:normal;font-family:Menlo,'DejaVu Sans Mono',consolas,'Courier New',monospace\">┏━━━━━━━━━━━━━━━━━━━━━━━━━━━━━━━━━┳━━━━━━━━━━━━━━━━━━━━━━━━┳━━━━━━━━━━━━━━━┓\n",
              "┃<span style=\"font-weight: bold\"> Layer (type)                    </span>┃<span style=\"font-weight: bold\"> Output Shape           </span>┃<span style=\"font-weight: bold\">       Param # </span>┃\n",
              "┡━━━━━━━━━━━━━━━━━━━━━━━━━━━━━━━━━╇━━━━━━━━━━━━━━━━━━━━━━━━╇━━━━━━━━━━━━━━━┩\n",
              "│ dense (<span style=\"color: #0087ff; text-decoration-color: #0087ff\">Dense</span>)                   │ (<span style=\"color: #00d7ff; text-decoration-color: #00d7ff\">None</span>, <span style=\"color: #00af00; text-decoration-color: #00af00\">10</span>)             │           <span style=\"color: #00af00; text-decoration-color: #00af00\">310</span> │\n",
              "├─────────────────────────────────┼────────────────────────┼───────────────┤\n",
              "│ dense_1 (<span style=\"color: #0087ff; text-decoration-color: #0087ff\">Dense</span>)                 │ (<span style=\"color: #00d7ff; text-decoration-color: #00d7ff\">None</span>, <span style=\"color: #00af00; text-decoration-color: #00af00\">10</span>)             │           <span style=\"color: #00af00; text-decoration-color: #00af00\">110</span> │\n",
              "├─────────────────────────────────┼────────────────────────┼───────────────┤\n",
              "│ dense_2 (<span style=\"color: #0087ff; text-decoration-color: #0087ff\">Dense</span>)                 │ (<span style=\"color: #00d7ff; text-decoration-color: #00d7ff\">None</span>, <span style=\"color: #00af00; text-decoration-color: #00af00\">10</span>)             │           <span style=\"color: #00af00; text-decoration-color: #00af00\">110</span> │\n",
              "├─────────────────────────────────┼────────────────────────┼───────────────┤\n",
              "│ dense_3 (<span style=\"color: #0087ff; text-decoration-color: #0087ff\">Dense</span>)                 │ (<span style=\"color: #00d7ff; text-decoration-color: #00d7ff\">None</span>, <span style=\"color: #00af00; text-decoration-color: #00af00\">10</span>)             │           <span style=\"color: #00af00; text-decoration-color: #00af00\">110</span> │\n",
              "├─────────────────────────────────┼────────────────────────┼───────────────┤\n",
              "│ dense_4 (<span style=\"color: #0087ff; text-decoration-color: #0087ff\">Dense</span>)                 │ (<span style=\"color: #00d7ff; text-decoration-color: #00d7ff\">None</span>, <span style=\"color: #00af00; text-decoration-color: #00af00\">10</span>)             │           <span style=\"color: #00af00; text-decoration-color: #00af00\">110</span> │\n",
              "├─────────────────────────────────┼────────────────────────┼───────────────┤\n",
              "│ dense_5 (<span style=\"color: #0087ff; text-decoration-color: #0087ff\">Dense</span>)                 │ (<span style=\"color: #00d7ff; text-decoration-color: #00d7ff\">None</span>, <span style=\"color: #00af00; text-decoration-color: #00af00\">1</span>)              │            <span style=\"color: #00af00; text-decoration-color: #00af00\">11</span> │\n",
              "└─────────────────────────────────┴────────────────────────┴───────────────┘\n",
              "</pre>\n"
            ]
          },
          "metadata": {}
        },
        {
          "output_type": "display_data",
          "data": {
            "text/plain": [
              "\u001b[1m Total params: \u001b[0m\u001b[38;5;34m761\u001b[0m (2.97 KB)\n"
            ],
            "text/html": [
              "<pre style=\"white-space:pre;overflow-x:auto;line-height:normal;font-family:Menlo,'DejaVu Sans Mono',consolas,'Courier New',monospace\"><span style=\"font-weight: bold\"> Total params: </span><span style=\"color: #00af00; text-decoration-color: #00af00\">761</span> (2.97 KB)\n",
              "</pre>\n"
            ]
          },
          "metadata": {}
        },
        {
          "output_type": "display_data",
          "data": {
            "text/plain": [
              "\u001b[1m Trainable params: \u001b[0m\u001b[38;5;34m761\u001b[0m (2.97 KB)\n"
            ],
            "text/html": [
              "<pre style=\"white-space:pre;overflow-x:auto;line-height:normal;font-family:Menlo,'DejaVu Sans Mono',consolas,'Courier New',monospace\"><span style=\"font-weight: bold\"> Trainable params: </span><span style=\"color: #00af00; text-decoration-color: #00af00\">761</span> (2.97 KB)\n",
              "</pre>\n"
            ]
          },
          "metadata": {}
        },
        {
          "output_type": "display_data",
          "data": {
            "text/plain": [
              "\u001b[1m Non-trainable params: \u001b[0m\u001b[38;5;34m0\u001b[0m (0.00 B)\n"
            ],
            "text/html": [
              "<pre style=\"white-space:pre;overflow-x:auto;line-height:normal;font-family:Menlo,'DejaVu Sans Mono',consolas,'Courier New',monospace\"><span style=\"font-weight: bold\"> Non-trainable params: </span><span style=\"color: #00af00; text-decoration-color: #00af00\">0</span> (0.00 B)\n",
              "</pre>\n"
            ]
          },
          "metadata": {}
        }
      ]
    },
    {
      "cell_type": "code",
      "source": [
        "#  To get the hyperParameters of the best model\n",
        "best_params = random_search_tuner.get_best_hyperparameters(num_trials=1)[0].values\n",
        "print(\"Best hyperparameters:\", best_params)"
      ],
      "metadata": {
        "colab": {
          "base_uri": "https://localhost:8080/"
        },
        "id": "cx7hwO86b9h3",
        "outputId": "d9b5ca09-0e75-4ac1-ebd7-46e5941c6ae1"
      },
      "execution_count": 37,
      "outputs": [
        {
          "output_type": "stream",
          "name": "stdout",
          "text": [
            "Best hyperparameters: {'n_hidden': 5, 'n_neurons': 10, 'learning_rate': 0.0025331218408821813}\n"
          ]
        }
      ]
    },
    {
      "cell_type": "markdown",
      "source": [
        "The tuner found that a network with 5 hidden layers, each with 10 neurons. The learning rate about about 0.0025 works best for maximizing validation accuracy."
      ],
      "metadata": {
        "id": "xS3deSyzzbY2"
      }
    },
    {
      "cell_type": "markdown",
      "source": [
        "# <font color='purple'>**Question 4: Evaluate the model**"
      ],
      "metadata": {
        "id": "LJgEITY86318"
      }
    },
    {
      "cell_type": "markdown",
      "source": [
        "**Evaluate the tunned best_model**"
      ],
      "metadata": {
        "id": "bQlo5XCY5j_b"
      }
    },
    {
      "cell_type": "code",
      "source": [
        "# Evaluate the best_model on the test set to see how well it generalizes\n",
        "test_loss, test_accuracy = best_model.evaluate(X_test_scaled, y_test)\n",
        "print(f\"Test accuracy: {test_accuracy:.4f}\")"
      ],
      "metadata": {
        "colab": {
          "base_uri": "https://localhost:8080/"
        },
        "id": "4Iat3fpc2E6V",
        "outputId": "5fb1d12e-ec23-43c4-8ba6-1081c8b9bbbe"
      },
      "execution_count": 38,
      "outputs": [
        {
          "output_type": "stream",
          "name": "stdout",
          "text": [
            "\u001b[1m2/2\u001b[0m \u001b[32m━━━━━━━━━━━━━━━━━━━━\u001b[0m\u001b[37m\u001b[0m \u001b[1m0s\u001b[0m 24ms/step - accuracy: 0.9883 - loss: 0.0306\n",
            "Test accuracy: 0.9825\n"
          ]
        }
      ]
    },
    {
      "cell_type": "markdown",
      "source": [
        "The model hit 98.25% accuracy on the complete test set, showing it generalizes well to unseen data."
      ],
      "metadata": {
        "id": "R4XkGUFm0bfg"
      }
    },
    {
      "cell_type": "code",
      "source": [
        "# classification report for tuned model\n",
        "y_pred_tuned = (best_model.predict(X_test_scaled) > 0.5).astype(int)\n",
        "print(\"\\nTuned Model Classification Report:\")\n",
        "print(classification_report(y_test, y_pred_tuned, target_names=cancer.target_names))"
      ],
      "metadata": {
        "colab": {
          "base_uri": "https://localhost:8080/"
        },
        "id": "JWyFGFsi2QlI",
        "outputId": "a701b36d-788d-4e39-d492-ebbd6e863dd5"
      },
      "execution_count": 27,
      "outputs": [
        {
          "output_type": "stream",
          "name": "stdout",
          "text": [
            "\u001b[1m2/2\u001b[0m \u001b[32m━━━━━━━━━━━━━━━━━━━━\u001b[0m\u001b[37m\u001b[0m \u001b[1m0s\u001b[0m 162ms/step\n",
            "\n",
            "Tuned Model Classification Report:\n",
            "              precision    recall  f1-score   support\n",
            "\n",
            "   malignant       0.95      0.95      0.95        21\n",
            "      benign       0.97      0.97      0.97        36\n",
            "\n",
            "    accuracy                           0.96        57\n",
            "   macro avg       0.96      0.96      0.96        57\n",
            "weighted avg       0.96      0.96      0.96        57\n",
            "\n"
          ]
        }
      ]
    },
    {
      "cell_type": "markdown",
      "source": [
        "Of the instances predicted as malignant, 95% were actually malignant (low rate of false positives). The model correctly identified 95% of all actual malignant cases (low rate of false negatives). The F1-Score (0.95) reflects a good balance between precision and recall."
      ],
      "metadata": {
        "id": "T8Avd_vY04ft"
      }
    },
    {
      "cell_type": "code",
      "source": [
        "# Confusion matrix for tuned model\n",
        "cm_tuned = confusion_matrix(y_test, y_pred_tuned)\n",
        "disp_tuned = ConfusionMatrixDisplay(confusion_matrix=cm_tuned, display_labels=cancer.target_names)\n",
        "\n",
        "disp_tuned.plot(cmap=plt.cm.Blues)"
      ],
      "metadata": {
        "colab": {
          "base_uri": "https://localhost:8080/",
          "height": 473
        },
        "id": "MmjWOweA3AAF",
        "outputId": "499aa4a0-e069-4cba-c805-382018e11f0d"
      },
      "execution_count": 28,
      "outputs": [
        {
          "output_type": "execute_result",
          "data": {
            "text/plain": [
              "<sklearn.metrics._plot.confusion_matrix.ConfusionMatrixDisplay at 0x7f65b3953750>"
            ]
          },
          "metadata": {},
          "execution_count": 28
        },
        {
          "output_type": "display_data",
          "data": {
            "text/plain": [
              "<Figure size 640x480 with 2 Axes>"
            ],
            "image/png": "[encoded data removed]"
          },
          "metadata": {}
        }
      ]
    },
    {
      "cell_type": "markdown",
      "source": [
        "The tuned MLP model performs well, with only 2 misclassifications out of 57. However, 1 false negative case is a critical error in cancer detection, as it could mean missing a case that needs treatment. Also, 1 false positive case can lead to unnecessary follow-up tests or anxiety but is less harmful than a false negative.\n",
        "The matrix shows balanced errors (1 false negative and 1 false positive), with no strong bias toward one class, despite the slight imbalance in the test set (about 63% benign, as per the script's stratified split)."
      ],
      "metadata": {
        "id": "nMhl8SjX2W2s"
      }
    },
    {
      "cell_type": "markdown",
      "source": [
        "# Retrain the best_model on the combined train and validation data\n",
        "\n",
        "After evaluating the results, I chose to retrain the model on both the training and validation data so it can learn from more examples. Since the validation set was already used for tuning, combining it with the training data should help improve performance and make the model more reliable when tested on new data. This is a common machine learning practice to make use of all available labeled data (Géron, 2019). The approach and details were discussed with ChatGPT (OpenAI, 2025).\n",
        "\n",
        "Reference: (Géron, HOML 3rd Ed. chapter 10 - Fine-Tuning Neural Network Hyperparameters)"
      ],
      "metadata": {
        "id": "o-fpVu537Jes"
      }
    },
    {
      "cell_type": "code",
      "source": [
        "# Retrain the best_model on the combined train and validation data\n",
        "import numpy as np\n",
        "\n",
        "# Combine scaled training and validation features\n",
        "X_combined = np.concatenate([X_train_scaled, X_val_scaled], axis=0)\n",
        "\n",
        "# Combine corresponding labels, ensuring they are numerical numpy arrays\n",
        "y_combined = np.concatenate([y_train.values.astype(float), y_val.values.astype(float)], axis=0)\n",
        "\n",
        "# Retrain the best_model on combined data\n",
        "best_model.fit(X_combined, y_combined, epochs=10)\n",
        "\n",
        "# Reference:\n",
        "# (OpenAI, 2025, https://chat.openai.com/): prompt - how to combine train and validation data for final training\n",
        "# Gemini AI assistance: automatic suggestion with 'axis=0'"
      ],
      "metadata": {
        "colab": {
          "base_uri": "https://localhost:8080/"
        },
        "id": "tmEyh2Sa1pYk",
        "outputId": "b9cb6d8c-1f57-410b-9333-4a25653fd21a"
      },
      "execution_count": 39,
      "outputs": [
        {
          "output_type": "stream",
          "name": "stdout",
          "text": [
            "Epoch 1/10\n",
            "\u001b[1m16/16\u001b[0m \u001b[32m━━━━━━━━━━━━━━━━━━━━\u001b[0m\u001b[37m\u001b[0m \u001b[1m0s\u001b[0m 6ms/step - accuracy: 0.9965 - loss: 0.0177\n",
            "Epoch 2/10\n",
            "\u001b[1m16/16\u001b[0m \u001b[32m━━━━━━━━━━━━━━━━━━━━\u001b[0m\u001b[37m\u001b[0m \u001b[1m0s\u001b[0m 6ms/step - accuracy: 0.9965 - loss: 0.0165\n",
            "Epoch 3/10\n",
            "\u001b[1m16/16\u001b[0m \u001b[32m━━━━━━━━━━━━━━━━━━━━\u001b[0m\u001b[37m\u001b[0m \u001b[1m0s\u001b[0m 7ms/step - accuracy: 0.9965 - loss: 0.0156\n",
            "Epoch 4/10\n",
            "\u001b[1m16/16\u001b[0m \u001b[32m━━━━━━━━━━━━━━━━━━━━\u001b[0m\u001b[37m\u001b[0m \u001b[1m0s\u001b[0m 5ms/step - accuracy: 0.9965 - loss: 0.0145\n",
            "Epoch 5/10\n",
            "\u001b[1m16/16\u001b[0m \u001b[32m━━━━━━━━━━━━━━━━━━━━\u001b[0m\u001b[37m\u001b[0m \u001b[1m0s\u001b[0m 6ms/step - accuracy: 0.9965 - loss: 0.0132\n",
            "Epoch 6/10\n",
            "\u001b[1m16/16\u001b[0m \u001b[32m━━━━━━━━━━━━━━━━━━━━\u001b[0m\u001b[37m\u001b[0m \u001b[1m0s\u001b[0m 6ms/step - accuracy: 0.9965 - loss: 0.0124\n",
            "Epoch 7/10\n",
            "\u001b[1m16/16\u001b[0m \u001b[32m━━━━━━━━━━━━━━━━━━━━\u001b[0m\u001b[37m\u001b[0m \u001b[1m0s\u001b[0m 7ms/step - accuracy: 0.9984 - loss: 0.0099\n",
            "Epoch 8/10\n",
            "\u001b[1m16/16\u001b[0m \u001b[32m━━━━━━━━━━━━━━━━━━━━\u001b[0m\u001b[37m\u001b[0m \u001b[1m0s\u001b[0m 6ms/step - accuracy: 0.9977 - loss: 0.0090\n",
            "Epoch 9/10\n",
            "\u001b[1m16/16\u001b[0m \u001b[32m━━━━━━━━━━━━━━━━━━━━\u001b[0m\u001b[37m\u001b[0m \u001b[1m0s\u001b[0m 7ms/step - accuracy: 0.9975 - loss: 0.0069\n",
            "Epoch 10/10\n",
            "\u001b[1m16/16\u001b[0m \u001b[32m━━━━━━━━━━━━━━━━━━━━\u001b[0m\u001b[37m\u001b[0m \u001b[1m0s\u001b[0m 4ms/step - accuracy: 0.9969 - loss: 0.0085 \n"
          ]
        },
        {
          "output_type": "execute_result",
          "data": {
            "text/plain": [
              "<keras.src.callbacks.history.History at 0x7f65b216f310>"
            ]
          },
          "metadata": {},
          "execution_count": 39
        }
      ]
    },
    {
      "cell_type": "markdown",
      "source": [
        "Epoch 1: Starts at 96.56% (accuracy: 0.9656), indicating the model is already performing well, likely due to prior tuning by RandomSearch\n",
        "\n",
        "Epoch 2–10: Accuracy increases steadily, reaching 99.50% (accuracy: 0.9950) by Epoch 9 and 10.\n",
        "\n",
        "Observation: The high starting accuracy (96.56%) suggests the model was pretrained during tuning (Keras Tuner trains each model for 10 epochs), and this fit call further refines it. The accuracy improves slightly but plateaus around 99.43–99.50%, indicating the model is converging.\n",
        "\n",
        "Loss:\n",
        "\n",
        "Epoch 1: Starts at 0.1052 (loss: 0.1052), a low binary crossentropy loss, consistent with high accuracy and the breast cancer dataset’s well-separated classes.\n",
        "Epoch 2–10: Loss decreases steadily from 0.0576 to 0.0245, showing the model is optimizing well and fitting the training data effectively.\n",
        "Observation: The loss drops by ~77% (from 0.1052 to 0.0245), indicating good convergence. The low final loss (0.0245) suggests a strong fit to the training data, but we need to check validation/test performance to rule out overfitting.\n",
        "\n",
        "High Initial Accuracy:\n",
        "\n",
        "The starting accuracy of 96.56% is excellent, reflecting that the best_model from RandomSearch was already well-optimized during tuning (using val_accuracy as the objective). This is expected for the breast cancer dataset, which is relatively clean and has well-separated classes (malignant vs. benign).\n",
        "\n",
        "\n",
        "Steady Improvement:\n",
        "\n",
        "Accuracy improves from 96.56% to 99.50% over 10 epochs, and loss decreases from 0.1052 to 0.0245. This shows the model is learning effectively, but the small incremental gains (e.g., 99.43% to 99.50%) suggest it’s nearing convergence, and additional epochs may yield diminishing returns.\n",
        "\n",
        "\n",
        "Low Loss:\n",
        "\n",
        "The final loss of 0.0245 is very low for binary crossentropy, indicating the model’s predictions are highly confident and closely match the true labels on the training set. This aligns with the high accuracy but raises a concern about potential overfitting, especially without validation loss metrics in this output.\n",
        "\n",
        "Overfitting Risk:\n",
        "\n",
        "The training accuracy (99.50%) and low loss (0.0245) are excellent, but without validation metrics, overfitting is a concern, especially since your original code lacked dropout/early stopping.\n",
        "The revised code I provided includes Dropout(0.2) and EarlyStopping(patience=3), which should prevent overfitting. Ensure these are in your build_model function."
      ],
      "metadata": {
        "id": "MQev6mCe5grN"
      }
    },
    {
      "cell_type": "markdown",
      "source": [
        "# Save the final model\n"
      ],
      "metadata": {
        "id": "gL8BDxu8nR7p"
      }
    },
    {
      "cell_type": "code",
      "source": [
        "# Save the entire Keras model into a single file named my_model.h5\n",
        "best_model.save(\"z5514968_final_model_for_project2.keras\")"
      ],
      "metadata": {
        "id": "vADu6O7IGvUa"
      },
      "execution_count": 30,
      "outputs": []
    },
    {
      "cell_type": "markdown",
      "source": [
        "I tried model.save(\"my_keras_model\", save_format=\"tf\") as shown in the book, but Colab Gemini suggested removing the save_format argument since it’s no longer required. Now, providing only the file path with either a .keras or .h5 extension is sufficient.\n",
        "\n",
        "Reference:\n",
        "- (Géron, HOML 3rd Ed. chapter 10 - Saving and Restoring a Model)\n",
        "- Gemini AI assistant: automatic suggestion for fixing save_format argument"
      ],
      "metadata": {
        "id": "YxyXlyU2sidN"
      }
    },
    {
      "cell_type": "markdown",
      "source": [
        "# <font color='purple'>**Question 5: Model Comparison and Safety Evaluation**"
      ],
      "metadata": {
        "id": "TXfn8zbJnls9"
      }
    },
    {
      "cell_type": "markdown",
      "source": [
        "# 5.1 Comparative Test"
      ],
      "metadata": {
        "id": "uMahds9W-Xys"
      }
    },
    {
      "cell_type": "markdown",
      "source": [
        "**5.1.1 Briefly describe the logistic regression model from Project 1.**\n",
        "\n",
        "In Project 1, I developed and evaluated a logistic regression model to classify breast tumors as benign or malignant based on features extracted from digitized images of fine needle aspirates. The goal was to build a reliable predictive model to aid early cancer diagnosis.\n",
        "\n",
        "The logistic regression model (log_reg) was trained with regularization (L1 and L2) to reduce overfitting and improve generalization. Hyperparameter tuning was performed using GridSearchCV with 3-fold cross-validation, optimizing for F1-score. The model pipeline included feature standardization and feature selection via SelectKBest. Different class weightings were tested to address class imbalance, as weighting helps the model focus more on minority classes and improve sensitivity.\n",
        "\n",
        "Model performance was assessed using classification reports (precision, recall, F1-score), confusion matrices, ROC curves with AUC, and logistic regression coefficient analysis for the selected features.\n",
        "\n",
        "This approach balanced predictive accuracy with practical considerations for cancer diagnosis, emphasizing robust validation and careful handling of class imbalance."
      ],
      "metadata": {
        "id": "Dr1d_Fi0-W2E"
      }
    },
    {
      "cell_type": "markdown",
      "source": [
        "**5.1.2 Compare your ANN to this model: What are the relative strengths and** **limitations of each, especially in a healthcare context?**\n",
        "\n",
        "Comparison of MLP and Logistic Regression Models\n",
        "\n",
        "Strengths of the MLP model:\n",
        "\n",
        "Capability to model complex relationships: The multilayer perceptron (MLP) can capture nonlinear patterns and interactions among features that logistic regression might miss. This can improve accuracy in complex datasets.\n",
        "\n",
        "Flexibility: The MLP architecture and hyperparameters (e.g., number of layers, neurons, activation functions) can be tuned to fit specific data characteristics.\n",
        "\n",
        "Potential for higher accuracy: Especially with sufficient data and careful tuning, MLPs often outperform simpler linear models in predictive tasks.\n",
        "\n",
        "Limitations of the MLP model:\n",
        "\n",
        "Interpretability: Neural networks are often seen as “black boxes,” making it harder to explain individual predictions to clinicians—a critical factor in healthcare.\n",
        "\n",
        "Training complexity: MLPs require more computational resources and longer training times, which can be a challenge in resource-constrained environments.\n",
        "\n",
        "Risk of overfitting: Without careful regularization and validation, MLPs can overfit, especially on smaller datasets.\n",
        "\n",
        "Strengths of the Logistic Regression model:\n",
        "\n",
        "Interpretability: Logistic regression provides clear, interpretable coefficients, helping clinicians understand which features influence predictions and in what way.\n",
        "\n",
        "Simplicity and speed: It is simpler and faster to train, making it practical for quick deployment or use in limited-resource settings.\n",
        "\n",
        "Well-established: Logistic regression is widely accepted in clinical research and healthcare applications due to its transparent nature.\n",
        "\n",
        "Limitations of the Logistic Regression model:\n",
        "\n",
        "Limited to linear relationships: Logistic regression assumes a linear relationship between features and log-odds of the outcome, which may oversimplify complex biological processes.\n",
        "\n",
        "Potentially lower accuracy: On complex datasets with nonlinear interactions, logistic regression may perform worse than models like MLP.\n",
        "\n",
        "In the healthcare context:\n",
        "\n",
        "Interpretability vs. accuracy trade-off: Logistic regression’s transparency aids clinical trust and decision-making, while MLP’s improved predictive power can support better diagnosis but may require additional explanation tools (e.g., SHAP, LIME).\n",
        "\n",
        "Data availability and complexity: With large, rich datasets, MLPs can leverage complex patterns effectively; for smaller or more structured datasets, logistic regression can be more robust.\n",
        "\n",
        "Deployment considerations: Simpler models are often easier to implement and maintain in clinical environments, but advanced models may provide improved patient outcomes if their predictions are trusted and understood.\n",
        "\n",
        "In summary, both models have roles in healthcare ML. Logistic regression offers clarity and speed, making it ideal for transparent, quick solutions. MLP provides higher flexibility and predictive power but at the cost of interpretability and complexity. Choosing between them depends on the specific clinical need, data characteristics, and resource availability."
      ],
      "metadata": {
        "id": "EGagcctP-Wnx"
      }
    },
    {
      "cell_type": "markdown",
      "source": [
        "**5.1.3 Which model would you recommend for deployment, and why?**\n",
        "\n",
        "For deployment, I would generally recommend starting with the logistic regression model—especially in a healthcare setting—because:\n",
        "\n",
        "Interpretability: Clinicians need to understand and trust model predictions. Logistic regression’s clear coefficients make it easier to explain why a certain decision was made, which is crucial for patient care and regulatory approval.\n",
        "\n",
        "Simplicity and reliability: It’s faster to train, easier to maintain, and less prone to overfitting, especially with smaller or cleaner datasets like the Breast Cancer Wisconsin dataset.\n",
        "\n",
        "Transparency: Transparent models support better clinical decision-making and help identify potential biases or errors.\n",
        "\n",
        "However, if you have sufficient data, computational resources, and mechanisms to explain complex predictions (e.g., explainability tools like SHAP or LIME), the MLP model could be considered for deployment due to its higher accuracy and ability to capture nonlinear patterns that logistic regression might miss.\n",
        "\n",
        "In summary, logistic regression is a safer, more interpretable choice for initial deployment, while the MLP can be explored further once there’s infrastructure to support interpretability and ongoing validation.\n"
      ],
      "metadata": {
        "id": "HSN4eMDG-zue"
      }
    },
    {
      "cell_type": "markdown",
      "source": [
        "# 5.2 Communicating Uncertainty and Confidence\n",
        "**Describe how you would communicate uncertainty or prediction confidence to stakeholders (e.g. clinicians, patients, IT staff).**\n",
        "\n",
        "Communicating Uncertainty and Prediction Confidence\n",
        "\n",
        "To share predictions from the breast cancer model effectively, I’d focus on transparency about uncertainty (like predicted probabilities) and tailor the message to each stakeholder’s background to build trust and promote informed use.\n",
        "\n",
        "Clinicians:\n",
        "Provide probability scores with predictions (e.g., “92% confidence malignant”), show confidence intervals, explain limitations, and use visuals like calibration plots. Emphasize the model as a decision aid, not a replacement for clinical judgment.\n",
        "\n",
        "Patients:\n",
        "Use simple language to explain risk and uncertainty (e.g., “Low chance of cancer, but no test is perfect”), focus on what it means for their care, avoid jargon, and provide reassurance about next steps.\n",
        "\n",
        "IT Staff/Data Scientists:\n",
        "Share detailed metrics, uncertainty estimates, and calibration results. Highlight data limitations and areas of uncertainty. Provide access to raw outputs for troubleshooting and improvement.\n",
        "\n",
        "In short, customize communication by audience—technical for experts, clear and empathetic for patients—to support responsible use while clarifying the model’s strengths and limits.\n",
        "\n"
      ],
      "metadata": {
        "id": "5neKx3BZ-5kT"
      }
    },
    {
      "cell_type": "markdown",
      "source": [
        "# 5.3 Design Improvements and Risk Mitigation Strategies\n",
        "\n",
        "Propose any design changes, deployment strategies, or safeguards that could help reduce risks, improve trust, and ensure safe and responsible use of the model in clinical practice.\n",
        "\n",
        "\n",
        "Design Changes:\n",
        "\n",
        "Incorporate uncertainty quantification (e.g., confidence intervals, Bayesian methods) to flag low-confidence predictions.\n",
        "\n",
        "Add interpretability tools (like SHAP or LIME) to explain model decisions to clinicians.\n",
        "\n",
        "Continuously update the model with new, diverse clinical data to improve robustness and reduce bias.\n",
        "\n",
        "Deployment Strategies:\n",
        "\n",
        "Integrate the model into existing clinical workflows with clear decision support, not standalone diagnosis.\n",
        "\n",
        "Provide training sessions for clinicians to understand model outputs, limitations, and best use cases.\n",
        "\n",
        "Pilot the model in controlled settings first, collecting feedback and monitoring real-world performance before wider rollout.\n",
        "\n",
        "Safeguards:\n",
        "\n",
        "Implement strict data governance and privacy protections compliant with healthcare regulations.\n",
        "\n",
        "Set up ongoing monitoring to detect model drift or degradation over time.\n",
        "\n",
        "Establish clear protocols for human override, ensuring clinicians can question or bypass model suggestions.\n",
        "\n",
        "Maintain transparency with patients and clinicians about the model’s capabilities and uncertainties.\n",
        "\n",
        "These steps will help mitigate risks, build trust, and promote responsible adoption in clinical practice."
      ],
      "metadata": {
        "id": "BgquRnGE_FGB"
      }
    },
    {
      "cell_type": "markdown",
      "source": [
        "The model performed around 95.6% accuracy per batch (32 samples by default) during evaluation, as shown in the output. It scored an overall test accuracy of 96.5%, showing it performs really well on the breast cancer classification task. Plus, with a binary crossentropy loss of just about 0.072, it is clear the model fits the data nicely."
      ],
      "metadata": {
        "id": "8raji1Dj5zAo"
      }
    },
    {
      "cell_type": "markdown",
      "source": [
        "########################\n",
        "\n",
        "best_model.evaluate(X_test_scaled, y_test)\n",
        "This runs the model on the test data and calculates the loss and metrics (like accuracy) based on the true labels (y_test). It gives you overall performance numbers.\n",
        "\n",
        "best_model.predict(X_test_scaled)\n",
        "This runs the model on the test data and outputs the predicted probabilities (for each sample), but it does not compare them to true labels or calculate accuracy/loss. You use these predictions if you want to do further analysis, like computing precision/recall or making a confusion matrix.\n",
        "\n",
        "In short:\n",
        "\n",
        ".evaluate() gives you summary metrics comparing predictions to truth.\n",
        "\n",
        ".predict() gives you the raw model predictions to work with separately.\n",
        "\n",
        "#########################################################"
      ],
      "metadata": {
        "id": "lQtVmW859KId"
      }
    },
    {
      "cell_type": "markdown",
      "source": [
        "The model showed high performance on on the test set with an overall accuracy of 96%. Both classes (malignant and benign) show strong precision and recall around 95% to 97%. This indicates the model is effective at correctly identifying positive cases while keeping false positives low.\n",
        "\n",
        "The F1-scores are just as strong, showing a nice balance between precision and recall. Overall, the model's performance is reliable for breast cancer classification on this dataset."
      ],
      "metadata": {
        "id": "QS5yHYIaAwdO"
      }
    },
    {
      "cell_type": "markdown",
      "source": [
        "**Reference**:\n",
        "- Gemini AI assistance: Convert predicted probabilities to binary class labels  \n",
        "  - (I encountered a \"ValueError: Classification metrics can't handle a mix of binary and continuous targets\"  when running my code, and Gemini's automatic suggestion helped me identify and fix the issue.)"
      ],
      "metadata": {
        "id": "zOFmf8dc_o7k"
      }
    },
    {
      "cell_type": "markdown",
      "source": [
        "\n",
        "\n",
        "---\n",
        "\n",
        "\n",
        "\n",
        "---\n",
        "\n",
        "\n",
        "\n",
        "---\n",
        "\n"
      ],
      "metadata": {
        "id": "7AUkQ2RHZxq6"
      }
    },
    {
      "cell_type": "markdown",
      "source": [
        "\n",
        "\n",
        "---\n",
        "\n",
        "\n",
        "\n",
        "---\n",
        "\n",
        "\n",
        "\n",
        "---\n",
        "\n"
      ],
      "metadata": {
        "id": "51k6p4mZuFps"
      }
    },
    {
      "cell_type": "markdown",
      "source": [
        "#####################################################################################\n",
        "\n",
        "Declaratation:\n",
        "\n",
        "I, Seong-hee Kwon (zID: 5514968), affirm that this assessment is my own original work. I have not submitted this work for credit\n",
        "elsewhere, before this course, or for any other purpose outside of this course.\n",
        "\n",
        "I understand that the assessor may:\n",
        "\n",
        "\n",
        "*   Share this work with another university faculty member for assessment purposes.\n",
        "*   Submit this work to a plagiarism detection service, which might store a copy for future checks.\n",
        "*   May use this assessment item for Scholarship of Teaching and Learning (SOTL) purposes, including educational research and\n",
        "teaching demonstration.\n",
        "\n",
        "#####################################################################################"
      ],
      "metadata": {
        "id": "dPdqdgeP8NZ9"
      }
    }
  ]
}